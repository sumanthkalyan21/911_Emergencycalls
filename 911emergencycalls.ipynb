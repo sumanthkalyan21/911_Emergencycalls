{
 "cells": [
  {
   "cell_type": "code",
   "execution_count": 1,
   "metadata": {},
   "outputs": [],
   "source": [
    "#importing of Libraries\n",
    "import pandas as pd\n",
    "import seaborn as sns\n",
    "from datetime import datetime  #pip install datetime\n",
    "import calendar  #pip install calendra\n",
    "import matplotlib.pyplot as plt"
   ]
  },
  {
   "cell_type": "code",
   "execution_count": 5,
   "metadata": {},
   "outputs": [
    {
     "name": "stdout",
     "output_type": "stream",
     "text": [
      "         lat        lng                                               desc  \\\n",
      "0  40.297876 -75.581294  REINDEER CT & DEAD END;  NEW HANOVER; Station ...   \n",
      "1  40.258061 -75.264680  BRIAR PATH & WHITEMARSH LN;  HATFIELD TOWNSHIP...   \n",
      "2  40.121182 -75.351975  HAWS AVE; NORRISTOWN; 2015-12-10 @ 14:39:21-St...   \n",
      "3  40.116153 -75.343513  AIRY ST & SWEDE ST;  NORRISTOWN; Station 308A;...   \n",
      "4  40.251492 -75.603350  CHERRYWOOD CT & DEAD END;  LOWER POTTSGROVE; S...   \n",
      "\n",
      "       zip                    title            timeStamp                twp  \\\n",
      "0  19525.0   EMS: BACK PAINS/INJURY  2015-12-10 17:10:52        NEW HANOVER   \n",
      "1  19446.0  EMS: DIABETIC EMERGENCY  2015-12-10 17:29:21  HATFIELD TOWNSHIP   \n",
      "2  19401.0      Fire: GAS-ODOR/LEAK  2015-12-10 14:39:21         NORRISTOWN   \n",
      "3  19401.0   EMS: CARDIAC EMERGENCY  2015-12-10 16:47:36         NORRISTOWN   \n",
      "4      NaN           EMS: DIZZINESS  2015-12-10 16:56:52   LOWER POTTSGROVE   \n",
      "\n",
      "                         addr  e  \n",
      "0      REINDEER CT & DEAD END  1  \n",
      "1  BRIAR PATH & WHITEMARSH LN  1  \n",
      "2                    HAWS AVE  1  \n",
      "3          AIRY ST & SWEDE ST  1  \n",
      "4    CHERRYWOOD CT & DEAD END  1  \n"
     ]
    }
   ],
   "source": [
    "#importing of Dataset\n",
    "df = pd.read_csv(r'C:\\Users\\Sumanth\\OneDrive\\Desktop\\python_brillica\\911.csv')\n",
    "print(df.head(5))"
   ]
  },
  {
   "cell_type": "code",
   "execution_count": 6,
   "metadata": {},
   "outputs": [],
   "source": [
    "#now Extract the Datetime \n",
    "df['timeStamp'] = df['timeStamp'].apply(lambda x: datetime.strptime(x, \"%Y-%m-%d %H:%M:%S\"))\n",
    "df['Year'] = df['timeStamp'].apply(lambda t: t.year)\n",
    "df['Month'] = df['timeStamp'].apply(lambda t: calendar.month_name[t.month])\n",
    "df['Day'] = df['timeStamp'].apply(lambda t: t.day)\n",
    "df['Date'] = df['timeStamp'].apply(lambda t: t.date())\n"
   ]
  },
  {
   "cell_type": "code",
   "execution_count": 7,
   "metadata": {},
   "outputs": [
    {
     "name": "stdout",
     "output_type": "stream",
     "text": [
      "Index(['lat', 'lng', 'desc', 'zip', 'title', 'timeStamp', 'twp', 'addr', 'e',\n",
      "       'Year', 'Month', 'Day', 'Date', 'type'],\n",
      "      dtype='object')\n"
     ]
    }
   ],
   "source": [
    "#now spliting the title into type \n",
    "df['type'] = df['title'].apply(lambda t: t.split(':')[0])\n",
    "print(df.columns)"
   ]
  },
  {
   "cell_type": "code",
   "execution_count": 8,
   "metadata": {},
   "outputs": [
    {
     "name": "stdout",
     "output_type": "stream",
     "text": [
      "                     title  type\n",
      "0   EMS: BACK PAINS/INJURY   EMS\n",
      "1  EMS: DIABETIC EMERGENCY   EMS\n",
      "2      Fire: GAS-ODOR/LEAK  Fire\n",
      "3   EMS: CARDIAC EMERGENCY   EMS\n",
      "4           EMS: DIZZINESS   EMS\n",
      "            timeStamp  Year     Month  Day        Date\n",
      "0 2015-12-10 17:10:52  2015  December   10  2015-12-10\n",
      "1 2015-12-10 17:29:21  2015  December   10  2015-12-10\n",
      "2 2015-12-10 14:39:21  2015  December   10  2015-12-10\n",
      "3 2015-12-10 16:47:36  2015  December   10  2015-12-10\n",
      "4 2015-12-10 16:56:52  2015  December   10  2015-12-10\n"
     ]
    }
   ],
   "source": [
    "#compare the changes\n",
    "print(df[['title','type']].head(5))\n",
    "print(df[['timeStamp','Year','Month','Day','Date']].head(5))"
   ]
  },
  {
   "cell_type": "code",
   "execution_count": 9,
   "metadata": {},
   "outputs": [
    {
     "name": "stdout",
     "output_type": "stream",
     "text": [
      "None\n",
      "Index(['lat', 'lng', 'desc', 'zip', 'title', 'twp', 'addr', 'e', 'Year',\n",
      "       'Month', 'Day', 'Date', 'type'],\n",
      "      dtype='object')\n",
      "(423909, 13)\n",
      "         lat        lng                                               desc  \\\n",
      "0  40.297876 -75.581294  REINDEER CT & DEAD END;  NEW HANOVER; Station ...   \n",
      "1  40.258061 -75.264680  BRIAR PATH & WHITEMARSH LN;  HATFIELD TOWNSHIP...   \n",
      "2  40.121182 -75.351975  HAWS AVE; NORRISTOWN; 2015-12-10 @ 14:39:21-St...   \n",
      "3  40.116153 -75.343513  AIRY ST & SWEDE ST;  NORRISTOWN; Station 308A;...   \n",
      "4  40.251492 -75.603350  CHERRYWOOD CT & DEAD END;  LOWER POTTSGROVE; S...   \n",
      "\n",
      "       zip                    title                twp  \\\n",
      "0  19525.0   EMS: BACK PAINS/INJURY        NEW HANOVER   \n",
      "1  19446.0  EMS: DIABETIC EMERGENCY  HATFIELD TOWNSHIP   \n",
      "2  19401.0      Fire: GAS-ODOR/LEAK         NORRISTOWN   \n",
      "3  19401.0   EMS: CARDIAC EMERGENCY         NORRISTOWN   \n",
      "4      NaN           EMS: DIZZINESS   LOWER POTTSGROVE   \n",
      "\n",
      "                         addr  e  Year     Month  Day        Date  type  \n",
      "0      REINDEER CT & DEAD END  1  2015  December   10  2015-12-10   EMS  \n",
      "1  BRIAR PATH & WHITEMARSH LN  1  2015  December   10  2015-12-10   EMS  \n",
      "2                    HAWS AVE  1  2015  December   10  2015-12-10  Fire  \n",
      "3          AIRY ST & SWEDE ST  1  2015  December   10  2015-12-10   EMS  \n",
      "4    CHERRYWOOD CT & DEAD END  1  2015  December   10  2015-12-10   EMS  \n"
     ]
    }
   ],
   "source": [
    "#drop the timestamp from the dataset\n",
    "print(df.drop('timeStamp', axis=1, inplace=True))\n",
    "print(df.columns)\n",
    "print(df.shape)\n",
    "print(df.head())"
   ]
  },
  {
   "cell_type": "code",
   "execution_count": 10,
   "metadata": {},
   "outputs": [
    {
     "name": "stdout",
     "output_type": "stream",
     "text": [
      "          lat        lng                                               desc  \\\n",
      "0   40.297876 -75.581294  REINDEER CT & DEAD END;  NEW HANOVER; Station ...   \n",
      "1   40.258061 -75.264680  BRIAR PATH & WHITEMARSH LN;  HATFIELD TOWNSHIP...   \n",
      "2   40.121182 -75.351975  HAWS AVE; NORRISTOWN; 2015-12-10 @ 14:39:21-St...   \n",
      "3   40.116153 -75.343513  AIRY ST & SWEDE ST;  NORRISTOWN; Station 308A;...   \n",
      "5   40.253473 -75.283245  CANNON AVE & W 9TH ST;  LANSDALE; Station 345;...   \n",
      "6   40.182111 -75.127795  LAUREL AVE & OAKDALE AVE;  HORSHAM; Station 35...   \n",
      "7   40.217286 -75.405182  COLLEGEVILLE RD & LYWISKI RD;  SKIPPACK; Stati...   \n",
      "8   40.289027 -75.399590  MAIN ST & OLD SUMNEYTOWN PIKE;  LOWER SALFORD;...   \n",
      "9   40.102398 -75.291458  BLUEROUTE  & RAMP I476 NB TO CHEMICAL RD; PLYM...   \n",
      "11  40.084161 -75.308386  BROOK RD & COLWELL LN; PLYMOUTH; 2015-12-10 @ ...   \n",
      "\n",
      "        zip                        title                twp  \\\n",
      "0   19525.0       EMS: BACK PAINS/INJURY        NEW HANOVER   \n",
      "1   19446.0      EMS: DIABETIC EMERGENCY  HATFIELD TOWNSHIP   \n",
      "2   19401.0          Fire: GAS-ODOR/LEAK         NORRISTOWN   \n",
      "3   19401.0       EMS: CARDIAC EMERGENCY         NORRISTOWN   \n",
      "5   19446.0             EMS: HEAD INJURY           LANSDALE   \n",
      "6   19044.0         EMS: NAUSEA/VOMITING            HORSHAM   \n",
      "7   19426.0   EMS: RESPIRATORY EMERGENCY           SKIPPACK   \n",
      "8   19438.0        EMS: SYNCOPAL EPISODE      LOWER SALFORD   \n",
      "9   19462.0  Traffic: VEHICLE ACCIDENT -           PLYMOUTH   \n",
      "11  19428.0  Traffic: VEHICLE ACCIDENT -           PLYMOUTH   \n",
      "\n",
      "                                        addr  e  Year     Month  Day  \\\n",
      "0                     REINDEER CT & DEAD END  1  2015  December   10   \n",
      "1                 BRIAR PATH & WHITEMARSH LN  1  2015  December   10   \n",
      "2                                   HAWS AVE  1  2015  December   10   \n",
      "3                         AIRY ST & SWEDE ST  1  2015  December   10   \n",
      "5                      CANNON AVE & W 9TH ST  1  2015  December   10   \n",
      "6                   LAUREL AVE & OAKDALE AVE  1  2015  December   10   \n",
      "7               COLLEGEVILLE RD & LYWISKI RD  1  2015  December   10   \n",
      "8              MAIN ST & OLD SUMNEYTOWN PIKE  1  2015  December   10   \n",
      "9   BLUEROUTE  & RAMP I476 NB TO CHEMICAL RD  1  2015  December   10   \n",
      "11                     BROOK RD & COLWELL LN  1  2015  December   10   \n",
      "\n",
      "          Date     type  \n",
      "0   2015-12-10      EMS  \n",
      "1   2015-12-10      EMS  \n",
      "2   2015-12-10     Fire  \n",
      "3   2015-12-10      EMS  \n",
      "5   2015-12-10      EMS  \n",
      "6   2015-12-10      EMS  \n",
      "7   2015-12-10      EMS  \n",
      "8   2015-12-10      EMS  \n",
      "9   2015-12-10  Traffic  \n",
      "11  2015-12-10  Traffic  \n",
      "(371711, 13)\n"
     ]
    }
   ],
   "source": [
    "#cleaning of Nan Na  values in all the attributes\n",
    "df = df.dropna(how='any', axis=0)\n",
    "print(df.head(10))\n",
    "print(df.shape)"
   ]
  },
  {
   "cell_type": "code",
   "execution_count": 11,
   "metadata": {},
   "outputs": [
    {
     "name": "stdout",
     "output_type": "stream",
     "text": [
      "EMS        190278\n",
      "Traffic    125370\n",
      "Fire        56063\n",
      "Name: type, dtype: int64\n"
     ]
    }
   ],
   "source": [
    "#Diffrent types of calls\n",
    "print(df['type'].value_counts())"
   ]
  },
  {
   "cell_type": "code",
   "execution_count": 12,
   "metadata": {},
   "outputs": [
    {
     "data": {
      "image/png": "[encoded data removed]",
      "text/plain": [
       "<Figure size 432x288 with 1 Axes>"
      ]
     },
     "metadata": {
      "needs_background": "light"
     },
     "output_type": "display_data"
    }
   ],
   "source": [
    "#visualizing the graph\n",
    "plt.show(sns.countplot(x='Month' , data=df, hue='type'))"
   ]
  },
  {
   "cell_type": "code",
   "execution_count": 13,
   "metadata": {},
   "outputs": [
    {
     "data": {
      "image/png": "[encoded data removed]",
      "text/plain": [
       "<Figure size 432x288 with 1 Axes>"
      ]
     },
     "metadata": {
      "needs_background": "light"
     },
     "output_type": "display_data"
    }
   ],
   "source": [
    "plt.show(sns.countplot(x='type',data=df))\n",
    "\n",
    "\n"
   ]
  },
  {
   "cell_type": "code",
   "execution_count": null,
   "metadata": {},
   "outputs": [],
   "source": []
  }
 ],
 "metadata": {
  "kernelspec": {
   "display_name": "Python 3",
   "language": "python",
   "name": "python3"
  },
  "language_info": {
   "codemirror_mode": {
    "name": "ipython",
    "version": 3
   },
   "file_extension": ".py",
   "mimetype": "text/x-python",
   "name": "python",
   "nbconvert_exporter": "python",
   "pygments_lexer": "ipython3",
   "version": "3.7.4"
  }
 },
 "nbformat": 4,
 "nbformat_minor": 4
}
